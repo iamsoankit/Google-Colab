{
  "nbformat": 4,
  "nbformat_minor": 0,
  "metadata": {
    "colab": {
      "provenance": [],
      "authorship_tag": "ABX9TyMAqKPZ6hIGCgXwoNW329Go",
      "include_colab_link": true
    },
    "kernelspec": {
      "name": "python3",
      "display_name": "Python 3"
    },
    "language_info": {
      "name": "python"
    }
  },
  "cells": [
    {
      "cell_type": "markdown",
      "metadata": {
        "id": "view-in-github",
        "colab_type": "text"
      },
      "source": [
        "<a href=\"https://colab.research.google.com/github/iamsoankit/Google-Colab/blob/main/identifiers.ipynb\" target=\"_parent\"><img src=\"https://colab.research.google.com/assets/colab-badge.svg\" alt=\"Open In Colab\"/></a>"
      ]
    },
    {
      "cell_type": "code",
      "execution_count": null,
      "metadata": {
        "colab": {
          "base_uri": "https://localhost:8080/"
        },
        "id": "yQ0-F4DdGfUt",
        "outputId": "7920bbb1-d528-46da-b677-9cd281fc106a"
      },
      "outputs": [
        {
          "output_type": "stream",
          "name": "stdout",
          "text": [
            "16\n"
          ]
        }
      ],
      "source": [
        "age=16\n",
        "name=\"Ankit\"\n",
        "print(age)\n"
      ]
    },
    {
      "cell_type": "code",
      "source": [
        "age=16\n",
        "name=\"Ankit\"\n",
        "_id=24\n",
        "print(_id)\n",
        "print(name)\n"
      ],
      "metadata": {
        "colab": {
          "base_uri": "https://localhost:8080/"
        },
        "id": "UAXAN1VPMlB2",
        "outputId": "ebee32b1-cb06-44a3-917e-efeb56eafeaa"
      },
      "execution_count": null,
      "outputs": [
        {
          "output_type": "stream",
          "name": "stdout",
          "text": [
            "24\n",
            "Ankit\n"
          ]
        }
      ]
    },
    {
      "cell_type": "code",
      "source": [
        "#valid_identifiers\n",
        "age=16\n",
        "name=\"Ankit\"\n",
        "_id=24\n",
        "name_34=\"Arpit\"\n",
        "print(_id)\n",
        "print(name)\n",
        "print(name_34)\n"
      ],
      "metadata": {
        "colab": {
          "base_uri": "https://localhost:8080/"
        },
        "id": "jJhf7AtPMvxh",
        "outputId": "5ab93509-72ce-4816-a28e-6fe1f24609e2"
      },
      "execution_count": 2,
      "outputs": [
        {
          "output_type": "stream",
          "name": "stdout",
          "text": [
            "24\n",
            "Ankit\n",
            "Arpit\n"
          ]
        }
      ]
    },
    {
      "cell_type": "code",
      "source": [
        "#invalid identifiers\n",
        "2name=Ankit\n",
        "marks$=44\n",
        "class=\"Hmm\" #class is a python keyword"
      ],
      "metadata": {
        "colab": {
          "base_uri": "https://localhost:8080/",
          "height": 130
        },
        "id": "pxnzFh6y7-Ys",
        "outputId": "d6392159-f858-4b8d-8d64-8316cde2b0b0"
      },
      "execution_count": 1,
      "outputs": [
        {
          "output_type": "error",
          "ename": "SyntaxError",
          "evalue": "ignored",
          "traceback": [
            "\u001b[0;36m  File \u001b[0;32m\"<ipython-input-1-282b47eb8aa5>\"\u001b[0;36m, line \u001b[0;32m2\u001b[0m\n\u001b[0;31m    2name=Ankit\u001b[0m\n\u001b[0m     ^\u001b[0m\n\u001b[0;31mSyntaxError\u001b[0m\u001b[0;31m:\u001b[0m invalid syntax\n"
          ]
        }
      ]
    }
  ]
}