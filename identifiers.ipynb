{
  "nbformat": 4,
  "nbformat_minor": 0,
  "metadata": {
    "colab": {
      "provenance": [],
      "authorship_tag": "ABX9TyPm850ZiK9hwXGK44uWA4sk",
      "include_colab_link": true
    },
    "kernelspec": {
      "name": "python3",
      "display_name": "Python 3"
    },
    "language_info": {
      "name": "python"
    }
  },
  "cells": [
    {
      "cell_type": "markdown",
      "metadata": {
        "id": "view-in-github",
        "colab_type": "text"
      },
      "source": [
        "<a href=\"https://colab.research.google.com/github/iamsoankit/Google-Colab/blob/main/identifiers.ipynb\" target=\"_parent\"><img src=\"https://colab.research.google.com/assets/colab-badge.svg\" alt=\"Open In Colab\"/></a>"
      ]
    },
    {
      "cell_type": "code",
      "execution_count": null,
      "metadata": {
        "colab": {
          "base_uri": "https://localhost:8080/"
        },
        "id": "yQ0-F4DdGfUt",
        "outputId": "7920bbb1-d528-46da-b677-9cd281fc106a"
      },
      "outputs": [
        {
          "output_type": "stream",
          "name": "stdout",
          "text": [
            "16\n"
          ]
        }
      ],
      "source": [
        "age=16\n",
        "name=\"Ankit\"\n",
        "print(age)\n"
      ]
    },
    {
      "cell_type": "code",
      "source": [
        "age=16\n",
        "name=\"Ankit\"\n",
        "_id=24\n",
        "print(_id)\n",
        "print(name)\n"
      ],
      "metadata": {
        "colab": {
          "base_uri": "https://localhost:8080/"
        },
        "id": "UAXAN1VPMlB2",
        "outputId": "ebee32b1-cb06-44a3-917e-efeb56eafeaa"
      },
      "execution_count": 2,
      "outputs": [
        {
          "output_type": "stream",
          "name": "stdout",
          "text": [
            "24\n",
            "Ankit\n"
          ]
        }
      ]
    },
    {
      "cell_type": "code",
      "source": [
        "age=16\n",
        "name=\"Ankit\"\n",
        "_id=24\n",
        "name_34=\"Arpit\"\n",
        "print(_id)\n",
        "print(name)\n",
        "print(name_34)\n"
      ],
      "metadata": {
        "colab": {
          "base_uri": "https://localhost:8080/"
        },
        "id": "jJhf7AtPMvxh",
        "outputId": "23f8ced4-3ba7-4320-c237-59b6f0073ea7"
      },
      "execution_count": 4,
      "outputs": [
        {
          "output_type": "stream",
          "name": "stdout",
          "text": [
            "24\n",
            "Ankit\n",
            "Arpit\n"
          ]
        }
      ]
    }
  ]
}