{
  "nbformat": 4,
  "nbformat_minor": 0,
  "metadata": {
    "colab": {
      "provenance": [],
      "authorship_tag": "ABX9TyM6u3e4/C+XrBXqz2rlmdh8",
      "include_colab_link": true
    },
    "kernelspec": {
      "name": "python3",
      "display_name": "Python 3"
    },
    "language_info": {
      "name": "python"
    }
  },
  "cells": [
    {
      "cell_type": "markdown",
      "metadata": {
        "id": "view-in-github",
        "colab_type": "text"
      },
      "source": [
        "<a href=\"https://colab.research.google.com/github/iamsoankit/Google-Colab/blob/main/Getting_Started_with_Colab.ipynb\" target=\"_parent\"><img src=\"https://colab.research.google.com/assets/colab-badge.svg\" alt=\"Open In Colab\"/></a>"
      ]
    },
    {
      "cell_type": "code",
      "execution_count": 2,
      "metadata": {
        "colab": {
          "base_uri": "https://localhost:8080/"
        },
        "id": "i6h3UPEBXv2Y",
        "outputId": "6305f209-782c-441a-c560-326425cdaf15"
      },
      "outputs": [
        {
          "output_type": "stream",
          "name": "stdout",
          "text": [
            "Hello Ankit\n",
            "Welcoming myself to Google Colab\n"
          ]
        }
      ],
      "source": [
        "print(\"Hello Ankit\")\n",
        "print(\"Welcoming myself to Google Colab\")"
      ]
    },
    {
      "cell_type": "code",
      "source": [
        "n1=5\n",
        "n2=6.5\n",
        "\n",
        "answer=n1+n2\n",
        "print(answer)"
      ],
      "metadata": {
        "colab": {
          "base_uri": "https://localhost:8080/"
        },
        "id": "Fah-01k4YsZn",
        "outputId": "8ed71eaa-22e8-4ff0-e87c-ee964c784e03"
      },
      "execution_count": 3,
      "outputs": [
        {
          "output_type": "stream",
          "name": "stdout",
          "text": [
            "11.5\n"
          ]
        }
      ]
    }
  ]
}